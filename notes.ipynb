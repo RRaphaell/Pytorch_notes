{
  "cells": [
    {
      "cell_type": "code",
      "source": [
        "import math\n",
        "import numpy as np\n",
        "\n",
        "import torch\n",
        "import torchvision\n",
        "import torch.nn as nn\n",
        "from torch.utils.data import Dataset, DataLoader\n",
        "\n",
        "from sklearn import datasets\n",
        "from sklearn.preprocessing import StandardScaler\n",
        "from sklearn.model_selection import train_test_split\n",
        "import matplotlib.pyplot as plt"
      ],
      "metadata": {
        "id": "pa3oOp8gYv8D"
      },
      "id": "pa3oOp8gYv8D",
      "execution_count": 2,
      "outputs": []
    },
    {
      "cell_type": "markdown",
      "source": [
        "#**Basic operations**"
      ],
      "metadata": {
        "id": "38AO11J2oiIm"
      },
      "id": "38AO11J2oiIm"
    },
    {
      "cell_type": "code",
      "source": [
        "torch.cuda.is_available()"
      ],
      "metadata": {
        "id": "gmM5lKAzYwxJ",
        "outputId": "200e1ed7-9f89-4016-cb83-2a41f14b4286",
        "colab": {
          "base_uri": "https://localhost:8080/"
        }
      },
      "id": "gmM5lKAzYwxJ",
      "execution_count": null,
      "outputs": [
        {
          "output_type": "execute_result",
          "data": {
            "text/plain": [
              "True"
            ]
          },
          "metadata": {},
          "execution_count": 2
        }
      ]
    },
    {
      "cell_type": "code",
      "source": [
        "x = torch.rand(1, 3, dtype=torch.float16)\n",
        "print(x)\n",
        "print(x.size())"
      ],
      "metadata": {
        "id": "WEVfmp1tY9y-",
        "outputId": "8fb06826-1990-4946-f64b-4cd933fbc918",
        "colab": {
          "base_uri": "https://localhost:8080/"
        }
      },
      "id": "WEVfmp1tY9y-",
      "execution_count": null,
      "outputs": [
        {
          "output_type": "execute_result",
          "data": {
            "text/plain": [
              "tensor([[0.1260, 0.8862, 0.8999]], dtype=torch.float16)"
            ]
          },
          "metadata": {},
          "execution_count": 4
        }
      ]
    },
    {
      "cell_type": "code",
      "source": [
        "x = torch.tensor([1,2,3])\n",
        "x"
      ],
      "metadata": {
        "id": "lp9MhngKZYS6",
        "outputId": "58234fb1-e6ef-4db0-a7ad-c9271cefbee7",
        "colab": {
          "base_uri": "https://localhost:8080/"
        }
      },
      "id": "lp9MhngKZYS6",
      "execution_count": null,
      "outputs": [
        {
          "output_type": "execute_result",
          "data": {
            "text/plain": [
              "tensor([1, 2, 3])"
            ]
          },
          "metadata": {},
          "execution_count": 6
        }
      ]
    },
    {
      "cell_type": "code",
      "source": [
        "# inplace\n",
        "x = torch.rand(1,3)\n",
        "x.mul_(0)\n",
        "x"
      ],
      "metadata": {
        "id": "EgRZoOrUZdsD",
        "outputId": "05f75d23-c650-4d1c-ae33-28a691e378e4",
        "colab": {
          "base_uri": "https://localhost:8080/"
        }
      },
      "id": "EgRZoOrUZdsD",
      "execution_count": null,
      "outputs": [
        {
          "output_type": "execute_result",
          "data": {
            "text/plain": [
              "tensor([[0., 0., 0.]])"
            ]
          },
          "metadata": {},
          "execution_count": 7
        }
      ]
    },
    {
      "cell_type": "code",
      "source": [
        "x = torch.rand(2, 2)\n",
        "x.view(4)"
      ],
      "metadata": {
        "id": "DhmGgJmxZzLm",
        "outputId": "88c4dc1d-cdf6-49f6-bc45-8185eb89dead",
        "colab": {
          "base_uri": "https://localhost:8080/"
        }
      },
      "id": "DhmGgJmxZzLm",
      "execution_count": null,
      "outputs": [
        {
          "output_type": "execute_result",
          "data": {
            "text/plain": [
              "tensor([0.3538, 0.9742, 0.0030, 0.6858])"
            ]
          },
          "metadata": {},
          "execution_count": 8
        }
      ]
    },
    {
      "cell_type": "code",
      "source": [
        "# takes reference if it's on gpu\n",
        "x.numpy()"
      ],
      "metadata": {
        "id": "MbJHW9acaYw0",
        "outputId": "b917ea7b-3b56-4072-a15c-ebfde1a63330",
        "colab": {
          "base_uri": "https://localhost:8080/"
        }
      },
      "id": "MbJHW9acaYw0",
      "execution_count": null,
      "outputs": [
        {
          "output_type": "execute_result",
          "data": {
            "text/plain": [
              "array([[0.35384423, 0.97419006],\n",
              "       [0.00295287, 0.6857872 ]], dtype=float32)"
            ]
          },
          "metadata": {},
          "execution_count": 9
        }
      ]
    },
    {
      "cell_type": "code",
      "source": [
        "# takes reference if it's on gpu\n",
        "x = np.array([1,2,3])\n",
        "torch.from_numpy(x)"
      ],
      "metadata": {
        "id": "HPayYoFSbKnx",
        "outputId": "22d61325-93ac-4cc1-97f9-e259f07b8487",
        "colab": {
          "base_uri": "https://localhost:8080/"
        }
      },
      "id": "HPayYoFSbKnx",
      "execution_count": null,
      "outputs": [
        {
          "output_type": "execute_result",
          "data": {
            "text/plain": [
              "tensor([1, 2, 3])"
            ]
          },
          "metadata": {},
          "execution_count": 10
        }
      ]
    },
    {
      "cell_type": "code",
      "source": [
        "if torch.cuda.is_available():\n",
        "  device = torch.device(\"cpu\")\n",
        "  x = torch.ones(5, device=device)\n",
        "  y = torch.ones(5)\n",
        "  y = y.to(device)\n",
        "  z = x+y\n",
        "  z = z.to(\"cpu\")\n",
        "  print(z)"
      ],
      "metadata": {
        "id": "Grs3MjEHbTnQ",
        "outputId": "f41d482f-62fe-4ed9-e21f-805855ceb65a",
        "colab": {
          "base_uri": "https://localhost:8080/"
        }
      },
      "id": "Grs3MjEHbTnQ",
      "execution_count": null,
      "outputs": [
        {
          "output_type": "stream",
          "name": "stdout",
          "text": [
            "tensor([2., 2., 2., 2., 2.])\n"
          ]
        }
      ]
    },
    {
      "cell_type": "code",
      "source": [
        "# gradient for scalars\n",
        "x = torch.ones(3, requires_grad=True)\n",
        "y = x + 2\n",
        "z = y*y*2\n",
        "z = z.mean()\n",
        "print(y)\n",
        "print(z)\n",
        "z.backward()\n",
        "x.grad"
      ],
      "metadata": {
        "colab": {
          "base_uri": "https://localhost:8080/"
        },
        "id": "qPD-pVWnHJXr",
        "outputId": "1d70e30c-a44e-405c-a1ee-01cef9638c13"
      },
      "id": "qPD-pVWnHJXr",
      "execution_count": null,
      "outputs": [
        {
          "output_type": "stream",
          "name": "stdout",
          "text": [
            "tensor([3., 3., 3.], grad_fn=<AddBackward0>)\n",
            "tensor(18., grad_fn=<MeanBackward0>)\n"
          ]
        },
        {
          "output_type": "execute_result",
          "data": {
            "text/plain": [
              "tensor([4., 4., 4.])"
            ]
          },
          "metadata": {},
          "execution_count": 24
        }
      ]
    },
    {
      "cell_type": "code",
      "source": [
        "# gradient for scalars\n",
        "x = torch.ones(3, requires_grad=True)\n",
        "y = x + 2\n",
        "z = y*y*2\n",
        "# z = z.mean()\n",
        "print(y)\n",
        "print(z)\n",
        "z.backward(gradient=torch.tensor([1,1,1]))\n",
        "x.grad"
      ],
      "metadata": {
        "colab": {
          "base_uri": "https://localhost:8080/"
        },
        "id": "6zIybqrKH2cj",
        "outputId": "3168b02a-6a4a-497f-c781-2c84311035b1"
      },
      "id": "6zIybqrKH2cj",
      "execution_count": null,
      "outputs": [
        {
          "output_type": "stream",
          "name": "stdout",
          "text": [
            "tensor([3., 3., 3.], grad_fn=<AddBackward0>)\n",
            "tensor([18., 18., 18.], grad_fn=<MulBackward0>)\n"
          ]
        },
        {
          "output_type": "execute_result",
          "data": {
            "text/plain": [
              "tensor([12., 12., 12.])"
            ]
          },
          "metadata": {},
          "execution_count": 25
        }
      ]
    },
    {
      "cell_type": "code",
      "source": [
        "# desible requires grad. 3 way\n",
        "# .requires_grad_(False)\n",
        "# .detach()\n",
        "# with torch.no_grad():\n",
        "\n",
        "x1 = torch.randn(3, requires_grad=True)\n",
        "x2 = torch.randn(3, requires_grad=True)\n",
        "x3 = torch.randn(3, requires_grad=True)\n",
        "x1.requires_grad_(False)\n",
        "print(x1)\n",
        "x2.detach_()\n",
        "print(x2)\n",
        "with torch.no_grad():\n",
        "  y = x3 * 2\n",
        "  print(y)"
      ],
      "metadata": {
        "colab": {
          "base_uri": "https://localhost:8080/"
        },
        "id": "oV6yJF83NAKq",
        "outputId": "035396e2-5b84-445c-f384-73636c3ddda9"
      },
      "id": "oV6yJF83NAKq",
      "execution_count": null,
      "outputs": [
        {
          "output_type": "stream",
          "name": "stdout",
          "text": [
            "tensor([1.6437, 1.5856, 0.6697])\n",
            "tensor([0.9452, 1.2962, 0.8772])\n",
            "tensor([ 2.8175, -1.6636, -0.8369])\n"
          ]
        }
      ]
    },
    {
      "cell_type": "code",
      "source": [
        "# warning pytorch accumulates gradients\n",
        "# model simulation\n",
        "weights = torch.ones(4, requires_grad=True)\n",
        "for epoch in range(3):\n",
        "  model_output = (weights*3).sum()\n",
        "  model_output.backward()\n",
        "  print(weights.grad)\n",
        "\n",
        "print(\"we need to clear the gradients\")\n",
        "weights = torch.ones(4, requires_grad=True)\n",
        "for epoch in range(3):\n",
        "  model_output = (weights*3).sum()\n",
        "  model_output.backward()\n",
        "  print(weights.grad)\n",
        "  weights.grad.zero_()\n"
      ],
      "metadata": {
        "colab": {
          "base_uri": "https://localhost:8080/"
        },
        "id": "wEJCC3QrOQs-",
        "outputId": "eef1684f-ce2e-4376-fda9-707df3954514"
      },
      "id": "wEJCC3QrOQs-",
      "execution_count": null,
      "outputs": [
        {
          "output_type": "stream",
          "name": "stdout",
          "text": [
            "tensor([3., 3., 3., 3.])\n",
            "tensor([6., 6., 6., 6.])\n",
            "tensor([9., 9., 9., 9.])\n",
            "we need to clear the gradients\n",
            "tensor([3., 3., 3., 3.])\n",
            "tensor([3., 3., 3., 3.])\n",
            "tensor([3., 3., 3., 3.])\n"
          ]
        }
      ]
    },
    {
      "cell_type": "code",
      "source": [
        " # model simulation\n",
        "x = torch.tensor(1.0)\n",
        "y = torch.tensor(2.0)\n",
        "w = torch.tensor(1.0, requires_grad=True)\n",
        "y_hat = w*x\n",
        "loss = (y_hat-y)**2\n",
        "print(loss)\n",
        "loss.backward()\n",
        "w.grad\n"
      ],
      "metadata": {
        "colab": {
          "base_uri": "https://localhost:8080/"
        },
        "id": "1xZ8TrgrPJMS",
        "outputId": "511a9f44-0371-48e0-ba5f-667d23618e68"
      },
      "id": "1xZ8TrgrPJMS",
      "execution_count": null,
      "outputs": [
        {
          "output_type": "stream",
          "name": "stdout",
          "text": [
            "tensor(1., grad_fn=<PowBackward0>)\n"
          ]
        },
        {
          "output_type": "execute_result",
          "data": {
            "text/plain": [
              "tensor(-2.)"
            ]
          },
          "metadata": {},
          "execution_count": 38
        }
      ]
    },
    {
      "cell_type": "markdown",
      "source": [
        "#**Linear Regression**"
      ],
      "metadata": {
        "id": "uDrdCka0oQaI"
      },
      "id": "uDrdCka0oQaI"
    },
    {
      "cell_type": "code",
      "source": [
        "# Linear Regression\n",
        "\n",
        "# 0) Prepare data\n",
        "X_numpy, y_numpy = datasets.make_regression(n_samples=100, n_features=1, noise=20, random_state=4)\n",
        "\n",
        "# cast to float Tensor\n",
        "X = torch.from_numpy(X_numpy.astype(np.float32))\n",
        "y = torch.from_numpy(y_numpy.astype(np.float32)).view(-1, 1)\n",
        "\n",
        "n_samples, n_features = X.shape\n",
        "\n",
        "# 1) Model\n",
        "# Linear model f = wx + b\n",
        "input_size = n_features\n",
        "output_size = 1\n",
        "model = nn.Linear(input_size, output_size)\n",
        "\n",
        "# 2) Loss and optimizer\n",
        "learning_rate = 0.01\n",
        "\n",
        "criterion = nn.MSELoss()\n",
        "optimizer = torch.optim.SGD(model.parameters(), lr=learning_rate)  \n",
        "\n",
        "# 3) Training loop\n",
        "num_epochs = 100\n",
        "for epoch in range(num_epochs):\n",
        "    # Forward pass and loss\n",
        "    y_predicted = model(X)\n",
        "    loss = criterion(y_predicted, y)\n",
        "    \n",
        "    # Backward pass and update\n",
        "    loss.backward()\n",
        "    optimizer.step()\n",
        "\n",
        "    # zero grad before new step\n",
        "    optimizer.zero_grad()\n",
        "\n",
        "    if (epoch+1) % 10 == 0:\n",
        "        print(f'epoch: {epoch+1}, loss = {loss.item():.4f}')\n",
        "\n",
        "# Plot\n",
        "predicted = model(X).detach().numpy()\n",
        "\n",
        "plt.plot(X_numpy, y_numpy, 'ro')\n",
        "plt.plot(X_numpy, predicted, 'b')\n",
        "plt.show()"
      ],
      "metadata": {
        "colab": {
          "base_uri": "https://localhost:8080/",
          "height": 435
        },
        "id": "zNkG7Uld31Uq",
        "outputId": "ada60219-98d8-4fcb-f1ff-302d62a50ac2"
      },
      "id": "zNkG7Uld31Uq",
      "execution_count": null,
      "outputs": [
        {
          "output_type": "stream",
          "name": "stdout",
          "text": [
            "epoch: 10, loss = 4134.0151\n",
            "epoch: 20, loss = 2910.5952\n",
            "epoch: 30, loss = 2076.9443\n",
            "epoch: 40, loss = 1508.7603\n",
            "epoch: 50, loss = 1121.4236\n",
            "epoch: 60, loss = 857.3167\n",
            "epoch: 70, loss = 677.1964\n",
            "epoch: 80, loss = 554.3298\n",
            "epoch: 90, loss = 470.5013\n",
            "epoch: 100, loss = 413.2964\n"
          ]
        },
        {
          "output_type": "display_data",
          "data": {
            "image/png": "[encoded data removed]",
            "text/plain": [
              "<Figure size 432x288 with 1 Axes>"
            ]
          },
          "metadata": {
            "needs_background": "light"
          }
        }
      ]
    },
    {
      "cell_type": "markdown",
      "source": [
        "#**Logistic Regression**"
      ],
      "metadata": {
        "id": "X9qVwVvRoIJy"
      },
      "id": "X9qVwVvRoIJy"
    },
    {
      "cell_type": "code",
      "source": [
        "# 0) Prepare data\n",
        "bc = datasets.load_breast_cancer()\n",
        "X, y = bc.data, bc.target\n",
        "\n",
        "n_samples, n_features = X.shape\n",
        "\n",
        "X_train, X_test, y_train, y_test = train_test_split(X, y, test_size=0.2, random_state=1234)\n",
        "\n",
        "# scale\n",
        "sc = StandardScaler()\n",
        "X_train = sc.fit_transform(X_train)\n",
        "X_test = sc.transform(X_test)\n",
        "\n",
        "X_train = torch.from_numpy(X_train.astype(np.float32))\n",
        "X_test = torch.from_numpy(X_test.astype(np.float32))\n",
        "y_train = torch.from_numpy(y_train.astype(np.float32))\n",
        "y_test = torch.from_numpy(y_test.astype(np.float32))\n",
        "\n",
        "y_train = y_train.view(-1, 1)\n",
        "y_test = y_test.view(-1, 1)\n",
        "\n",
        "# 1) Model\n",
        "# Linear model f = wx + b , sigmoid at the end\n",
        "class Model(nn.Module):\n",
        "    def __init__(self, n_input_features):\n",
        "        super(Model, self).__init__()\n",
        "        self.linear = nn.Linear(n_input_features, 1)\n",
        "\n",
        "    def forward(self, x):\n",
        "        y_pred = torch.sigmoid(self.linear(x))\n",
        "        return y_pred\n",
        "\n",
        "model = Model(n_features)\n",
        "\n",
        "# 2) Loss and optimizer\n",
        "num_epochs = 100\n",
        "learning_rate = 0.01\n",
        "criterion = nn.BCELoss()\n",
        "optimizer = torch.optim.SGD(model.parameters(), lr=learning_rate)\n",
        "\n",
        "# 3) Training loop\n",
        "for epoch in range(num_epochs):\n",
        "    # Forward pass and loss\n",
        "    y_pred = model(X_train)\n",
        "    loss = criterion(y_pred, y_train)\n",
        "\n",
        "    # Backward pass and update\n",
        "    loss.backward()\n",
        "    optimizer.step()\n",
        "\n",
        "    # zero grad before new step\n",
        "    optimizer.zero_grad()\n",
        "\n",
        "    if (epoch+1) % 10 == 0:\n",
        "        print(f'epoch: {epoch+1}, loss = {loss.item():.4f}')\n",
        "\n",
        "\n",
        "with torch.no_grad():\n",
        "    y_predicted = model(X_test)\n",
        "    y_predicted_cls = y_predicted.round()\n",
        "    acc = y_predicted_cls.eq(y_test).sum() / float(y_test.shape[0])\n",
        "    print(f'accuracy: {acc.item():.4f}')"
      ],
      "metadata": {
        "colab": {
          "base_uri": "https://localhost:8080/"
        },
        "id": "LqSJbBsVnukw",
        "outputId": "abd4da8c-d400-4eb8-ef9b-3a539f02440d"
      },
      "id": "LqSJbBsVnukw",
      "execution_count": null,
      "outputs": [
        {
          "output_type": "stream",
          "name": "stdout",
          "text": [
            "epoch: 10, loss = 0.5837\n",
            "epoch: 20, loss = 0.4820\n",
            "epoch: 30, loss = 0.4177\n",
            "epoch: 40, loss = 0.3732\n",
            "epoch: 50, loss = 0.3403\n",
            "epoch: 60, loss = 0.3148\n",
            "epoch: 70, loss = 0.2942\n",
            "epoch: 80, loss = 0.2772\n",
            "epoch: 90, loss = 0.2628\n",
            "epoch: 100, loss = 0.2504\n",
            "accuracy: 0.8947\n"
          ]
        }
      ]
    },
    {
      "cell_type": "markdown",
      "source": [
        "# **Data**"
      ],
      "metadata": {
        "id": "Mfp2-7198_CH"
      },
      "id": "Mfp2-7198_CH"
    },
    {
      "cell_type": "markdown",
      "source": [
        "## **Custom**"
      ],
      "metadata": {
        "id": "AfAohmnm-Y35"
      },
      "id": "AfAohmnm-Y35"
    },
    {
      "cell_type": "markdown",
      "source": [
        "### **Dataset**"
      ],
      "metadata": {
        "id": "hgE5dNJC9DT3"
      },
      "id": "hgE5dNJC9DT3"
    },
    {
      "cell_type": "code",
      "source": [
        "# Implement a custom Dataset:\n",
        "# inherit Dataset\n",
        "# implement __init__ , __getitem__ , and __len__\n",
        "\n",
        "class WineDataset(Dataset):\n",
        "  \n",
        "    def __init__(self, transform=None):\n",
        "        xy = np.loadtxt('/content/drive/MyDrive/data/wine.csv', delimiter=',', dtype=np.float32, skiprows=1)\n",
        "        self.n_samples = xy.shape[0]\n",
        "\n",
        "        # note that we do not convert to tensor here\n",
        "        self.x_data = xy[:, 1:]\n",
        "        self.y_data = xy[:, [0]]\n",
        "\n",
        "        self.transform = transform\n",
        "\n",
        "    def __getitem__(self, index):\n",
        "        sample = self.x_data[index], self.y_data[index]\n",
        "\n",
        "        if self.transform:\n",
        "            sample = self.transform(sample)\n",
        "\n",
        "        return sample\n",
        "\n",
        "    def __len__(self):\n",
        "        return self.n_samples\n",
        "\n",
        "# create dataset\n",
        "dataset = WineDataset()"
      ],
      "metadata": {
        "id": "9k_vnTKN90lE"
      },
      "id": "9k_vnTKN90lE",
      "execution_count": 3,
      "outputs": []
    },
    {
      "cell_type": "markdown",
      "source": [
        "### **Data loader**"
      ],
      "metadata": {
        "id": "42sKlnef-PJe"
      },
      "id": "42sKlnef-PJe"
    },
    {
      "cell_type": "code",
      "source": [
        "# get first sample and unpack\n",
        "first_data = dataset[0]\n",
        "features, labels = first_data\n",
        "print(features, labels)"
      ],
      "metadata": {
        "id": "PNv9HvUw_RH6",
        "colab": {
          "base_uri": "https://localhost:8080/"
        },
        "outputId": "a28ebb7c-0575-463b-acd6-8e3a7b9af22e"
      },
      "id": "PNv9HvUw_RH6",
      "execution_count": 4,
      "outputs": [
        {
          "output_type": "stream",
          "name": "stdout",
          "text": [
            "[1.423e+01 1.710e+00 2.430e+00 1.560e+01 1.270e+02 2.800e+00 3.060e+00\n",
            " 2.800e-01 2.290e+00 5.640e+00 1.040e+00 3.920e+00 1.065e+03] [1.]\n"
          ]
        }
      ]
    },
    {
      "cell_type": "markdown",
      "source": [
        "### **Data transformer**"
      ],
      "metadata": {
        "id": "RpqYRIVT9JWS"
      },
      "id": "RpqYRIVT9JWS"
    },
    {
      "cell_type": "code",
      "source": [
        "# Custom Transforms\n",
        "# implement __call__(self, sample)\n",
        "class ToTensor:\n",
        "    # Convert ndarrays to Tensors\n",
        "    def __call__(self, sample):\n",
        "        inputs, targets = sample\n",
        "        return torch.from_numpy(inputs), torch.from_numpy(targets)\n",
        "\n",
        "class MulTransform:\n",
        "    # multiply inputs with a given factor\n",
        "    def __init__(self, factor):\n",
        "        self.factor = factor\n",
        "\n",
        "    def __call__(self, sample):\n",
        "        inputs, targets = sample\n",
        "        inputs *= self.factor\n",
        "        return inputs, targets"
      ],
      "metadata": {
        "id": "OZX34r-A_dHO"
      },
      "id": "OZX34r-A_dHO",
      "execution_count": 15,
      "outputs": []
    },
    {
      "cell_type": "code",
      "source": [
        "print('Without Transform')\n",
        "dataset = WineDataset()\n",
        "first_data = dataset[0]\n",
        "features, labels = first_data\n",
        "print(type(features), type(labels))\n",
        "print(features, labels)\n",
        "\n",
        "print('\\nWith Tensor Transform')\n",
        "dataset = WineDataset(transform=ToTensor())\n",
        "first_data = dataset[0]\n",
        "features, labels = first_data\n",
        "print(type(features), type(labels))\n",
        "print(features, labels)\n",
        "\n",
        "print('\\nWith Tensor and Multiplication Transform')\n",
        "composed = torchvision.transforms.Compose([ToTensor(), MulTransform(4)])\n",
        "dataset = WineDataset(transform=composed)\n",
        "first_data = dataset[0]\n",
        "features, labels = first_data\n",
        "print(type(features), type(labels))\n",
        "print(features, labels)"
      ],
      "metadata": {
        "id": "FIh1iGc-_nSW",
        "colab": {
          "base_uri": "https://localhost:8080/"
        },
        "outputId": "4b62e0db-86b9-4ef0-f047-fb292dfe56ff"
      },
      "id": "FIh1iGc-_nSW",
      "execution_count": 16,
      "outputs": [
        {
          "output_type": "stream",
          "name": "stdout",
          "text": [
            "Without Transform\n",
            "<class 'numpy.ndarray'> <class 'numpy.ndarray'>\n",
            "[1.423e+01 1.710e+00 2.430e+00 1.560e+01 1.270e+02 2.800e+00 3.060e+00\n",
            " 2.800e-01 2.290e+00 5.640e+00 1.040e+00 3.920e+00 1.065e+03] [1.]\n",
            "\n",
            "With Tensor Transform\n",
            "<class 'torch.Tensor'> <class 'torch.Tensor'>\n",
            "tensor([1.4230e+01, 1.7100e+00, 2.4300e+00, 1.5600e+01, 1.2700e+02, 2.8000e+00,\n",
            "        3.0600e+00, 2.8000e-01, 2.2900e+00, 5.6400e+00, 1.0400e+00, 3.9200e+00,\n",
            "        1.0650e+03]) tensor([1.])\n",
            "\n",
            "With Tensor and Multiplication Transform\n",
            "<class 'torch.Tensor'> <class 'torch.Tensor'>\n",
            "tensor([5.6920e+01, 6.8400e+00, 9.7200e+00, 6.2400e+01, 5.0800e+02, 1.1200e+01,\n",
            "        1.2240e+01, 1.1200e+00, 9.1600e+00, 2.2560e+01, 4.1600e+00, 1.5680e+01,\n",
            "        4.2600e+03]) tensor([1.])\n"
          ]
        }
      ]
    },
    {
      "cell_type": "markdown",
      "source": [
        "## **Pytorch**"
      ],
      "metadata": {
        "id": "_158A5Ac9Jdh"
      },
      "id": "_158A5Ac9Jdh"
    },
    {
      "cell_type": "code",
      "source": [
        "train_dataset = torchvision.datasets.MNIST(root='./data',\n",
        "                                           train=True,\n",
        "                                           transform=torchvision.transforms.ToTensor(),  \n",
        "                                           download=True)\n",
        "\n",
        "train_loader = DataLoader(dataset=train_dataset,\n",
        "                          batch_size=3,\n",
        "                          shuffle=True)\n",
        "\n",
        "\n",
        "# look at one random sample\n",
        "dataiter = iter(train_loader)\n",
        "data = dataiter.next()\n",
        "inputs, targets = data\n",
        "print(inputs.shape, targets.shape)"
      ],
      "metadata": {
        "id": "L9MtLtvL9Gz8",
        "colab": {
          "base_uri": "https://localhost:8080/"
        },
        "outputId": "99cbdcf7-3188-4eee-c626-7fc3f125a1ec"
      },
      "id": "L9MtLtvL9Gz8",
      "execution_count": 18,
      "outputs": [
        {
          "output_type": "stream",
          "name": "stdout",
          "text": [
            "torch.Size([3, 1, 28, 28]) torch.Size([3])\n"
          ]
        }
      ]
    },
    {
      "cell_type": "markdown",
      "source": [
        "# **Softmax - Cross Entropy**"
      ],
      "metadata": {
        "id": "LOulOV-oHmWe"
      },
      "id": "LOulOV-oHmWe"
    },
    {
      "cell_type": "code",
      "source": [
        "# synthetic data\n",
        "y_true = torch.tensor([1, 0, 0])\n",
        "\n",
        "y_pred1 = torch.tensor([8, 4, 4], dtype=torch.float32)\n",
        "y_pred2 = torch.tensor([-5, 7, 9], dtype=torch.float32)"
      ],
      "metadata": {
        "id": "9sOpvDuDHqDt"
      },
      "id": "9sOpvDuDHqDt",
      "execution_count": 93,
      "outputs": []
    },
    {
      "cell_type": "code",
      "source": [
        "def my_softmax(x):\n",
        "  return np.exp(x) / np.sum(np.exp(x), axis=0)\n",
        "\n",
        "print('my softmax:', my_softmax(y_pred1.numpy()))\n",
        "\n",
        "print('torch softmax:', torch.softmax(y_pred1, dim=0))"
      ],
      "metadata": {
        "colab": {
          "base_uri": "https://localhost:8080/"
        },
        "id": "JudbKeLnKstI",
        "outputId": "eae950e1-0aba-4d76-d12e-4de7c7cf6024"
      },
      "id": "JudbKeLnKstI",
      "execution_count": 94,
      "outputs": [
        {
          "output_type": "stream",
          "name": "stdout",
          "text": [
            "my softmax: [0.96466315 0.01766842 0.01766842]\n",
            "torch softmax: tensor([0.9647, 0.0177, 0.0177])\n"
          ]
        }
      ]
    },
    {
      "cell_type": "code",
      "source": [
        "def my_cross_entropy(true, pred):\n",
        "  loss = - sum(true * np.log(pred))\n",
        "  return loss #/ pred.shape[0] as it seems torch crossentropy doesn use normalization\n",
        "\n",
        "print(f'my cross entropy loss 1: {my_cross_entropy(y_true.numpy(), my_softmax(y_pred1.numpy())):.4f}')\n",
        "print(f'my cross entropy loss 2: {my_cross_entropy(y_true.numpy(), my_softmax(y_pred2.numpy())):.4f}')\n",
        "\n",
        "# torch crossentropy applys softmax itself so we dont need to write it here\n",
        "# size of parameteres should be nsamples x nclasses thats why we are using .view\n",
        "# and also y_true should not be one hot encoded it need just lableb thats why we use tensor([0])\n",
        "loss = nn.CrossEntropyLoss()\n",
        "print(f'torch cross entropy loss 1: {loss(y_pred1.view(1,-1), torch.tensor([0])):.4f}')\n",
        "print(f'torch cross entropy loss 2: {loss(y_pred2.view(1,-1), torch.tensor([0])):.4f}')"
      ],
      "metadata": {
        "colab": {
          "base_uri": "https://localhost:8080/"
        },
        "id": "NN9bvJ3cHyCm",
        "outputId": "9fb92b68-c26a-4362-c8af-0d0ba0bfdc26"
      },
      "id": "NN9bvJ3cHyCm",
      "execution_count": 95,
      "outputs": [
        {
          "output_type": "stream",
          "name": "stdout",
          "text": [
            "my cross entropy loss 1: 0.0360\n",
            "my cross entropy loss 2: 14.1269\n",
            "torch cross entropy loss 1: 0.0360\n",
            "torch cross entropy loss 2: 14.1269\n"
          ]
        }
      ]
    },
    {
      "cell_type": "markdown",
      "source": [
        "# **MNIST**"
      ],
      "metadata": {
        "id": "j1u4-A0RkfR6"
      },
      "id": "j1u4-A0RkfR6"
    },
    {
      "cell_type": "code",
      "source": [
        "device = torch.device(\"cuda\" if torch.cuda.is_available() else \"cpu\")\n",
        "\n",
        "# initialize some hyper parameters\n",
        "input_size = 784 # 28x28\n",
        "hidden_size = 128\n",
        "num_classes = 10\n",
        "num_epochs = 10\n",
        "batch_size = 128\n",
        "learning_rate = 0.01\n",
        "\n",
        "train_df = torchvision.datasets.MNIST(root='./data', train=True, \n",
        "                                      transform=torchvision.transforms.ToTensor(), download=True)\n",
        "\n",
        "test_df = torchvision.datasets.MNIST(root='./data', train=False, \n",
        "                                     transform=torchvision.transforms.ToTensor(), download=True)\n",
        "\n",
        "train_loader = torch.utils.data.DataLoader(dataset=train_df, \n",
        "                                           batch_size=batch_size, shuffle=True)\n",
        "\n",
        "test_loader = torch.utils.data.DataLoader(dataset=test_df, \n",
        "                                          batch_size=batch_size, shuffle=True)\n"
      ],
      "metadata": {
        "id": "F_PUAFHgkhdA"
      },
      "id": "F_PUAFHgkhdA",
      "execution_count": 22,
      "outputs": []
    },
    {
      "cell_type": "code",
      "source": [
        "dataiter = iter(train_loader)\n",
        "data = dataiter.next()\n",
        "samples, labels = data\n",
        "print(samples.shape, labels.shape)\n",
        "\n",
        "for i in range(6):\n",
        "  plt.subplot(2, 3, i+1)\n",
        "  plt.imshow(samples[i][0], cmap='gray')\n",
        "plt.show()"
      ],
      "metadata": {
        "id": "eiGRXx39k0lz",
        "outputId": "2d36632d-ce14-46ec-aebb-84b11dbe5883",
        "colab": {
          "base_uri": "https://localhost:8080/",
          "height": 284
        }
      },
      "id": "eiGRXx39k0lz",
      "execution_count": 23,
      "outputs": [
        {
          "output_type": "stream",
          "name": "stdout",
          "text": [
            "torch.Size([128, 1, 28, 28]) torch.Size([128])\n"
          ]
        },
        {
          "output_type": "display_data",
          "data": {
            "image/png": "[encoded data removed]",
            "text/plain": [
              "<Figure size 432x288 with 6 Axes>"
            ]
          },
          "metadata": {
            "needs_background": "light"
          }
        }
      ]
    },
    {
      "cell_type": "code",
      "source": [
        "# Fully connected neural network with one hidden layer\n",
        "class NeuralNet(nn.Module):\n",
        "  def __init__(self, input_size, hidden_size, output_size):\n",
        "    super(NeuralNet, self).__init__()\n",
        "\n",
        "    self.l1 = nn.Linear(input_size, hidden_size)\n",
        "    self.relu = nn.ReLU()\n",
        "    self.l2 = nn.Linear(hidden_size, output_size)\n",
        "\n",
        "  def forward(self, x):\n",
        "    out = self.l1(x)\n",
        "    out = self.relu(out)\n",
        "    out = self.l2(out)\n",
        "    return out\n",
        "\n",
        "model = NeuralNet(input_size, hidden_size, num_classes).to(device)"
      ],
      "metadata": {
        "id": "r0Dge5QNmMoD"
      },
      "id": "r0Dge5QNmMoD",
      "execution_count": 24,
      "outputs": []
    },
    {
      "cell_type": "code",
      "source": [
        "criterion = nn.CrossEntropyLoss()\n",
        "optimizer = torch.optim.Adam(model.parameters(), lr=learning_rate) \n",
        "\n",
        "n_total_steps = len(train_loader)\n",
        "for epoch in range(num_epochs):\n",
        "    for i, (images, labels) in enumerate(train_loader):  \n",
        "        # origin shape: [100, 1, 28, 28]\n",
        "        # resized: [100, 784]\n",
        "        images = images.view(-1, 28*28).to(device)\n",
        "        labels = labels.to(device)\n",
        "        \n",
        "        # Forward pass\n",
        "        outputs = model(images)\n",
        "        loss = criterion(outputs, labels)\n",
        "        \n",
        "        # Backward and optimize\n",
        "        optimizer.zero_grad()\n",
        "        loss.backward()\n",
        "        optimizer.step()\n",
        "        \n",
        "        if (i+1) % 100 == 0:\n",
        "            print (f'Epoch [{epoch+1}/{num_epochs}], Step [{i+1}/{n_total_steps}], Loss: {loss.item():.4f}')\n",
        "                    "
      ],
      "metadata": {
        "id": "2JxpMoZIn_zr",
        "outputId": "0fe020d0-e152-4833-a939-9d305f83a1d8",
        "colab": {
          "base_uri": "https://localhost:8080/"
        }
      },
      "id": "2JxpMoZIn_zr",
      "execution_count": 25,
      "outputs": [
        {
          "output_type": "stream",
          "name": "stdout",
          "text": [
            "Epoch [1/10], Step [100/469], Loss: 0.1607\n",
            "Epoch [1/10], Step [200/469], Loss: 0.1887\n",
            "Epoch [1/10], Step [300/469], Loss: 0.1718\n",
            "Epoch [1/10], Step [400/469], Loss: 0.1291\n",
            "Epoch [2/10], Step [100/469], Loss: 0.0893\n",
            "Epoch [2/10], Step [200/469], Loss: 0.0561\n",
            "Epoch [2/10], Step [300/469], Loss: 0.1799\n",
            "Epoch [2/10], Step [400/469], Loss: 0.1269\n",
            "Epoch [3/10], Step [100/469], Loss: 0.3027\n",
            "Epoch [3/10], Step [200/469], Loss: 0.0292\n",
            "Epoch [3/10], Step [300/469], Loss: 0.0328\n",
            "Epoch [3/10], Step [400/469], Loss: 0.1316\n",
            "Epoch [4/10], Step [100/469], Loss: 0.0633\n",
            "Epoch [4/10], Step [200/469], Loss: 0.0355\n",
            "Epoch [4/10], Step [300/469], Loss: 0.0233\n",
            "Epoch [4/10], Step [400/469], Loss: 0.0638\n",
            "Epoch [5/10], Step [100/469], Loss: 0.0385\n",
            "Epoch [5/10], Step [200/469], Loss: 0.0519\n",
            "Epoch [5/10], Step [300/469], Loss: 0.0544\n",
            "Epoch [5/10], Step [400/469], Loss: 0.0881\n",
            "Epoch [6/10], Step [100/469], Loss: 0.0707\n",
            "Epoch [6/10], Step [200/469], Loss: 0.1176\n",
            "Epoch [6/10], Step [300/469], Loss: 0.1155\n",
            "Epoch [6/10], Step [400/469], Loss: 0.0523\n",
            "Epoch [7/10], Step [100/469], Loss: 0.0083\n",
            "Epoch [7/10], Step [200/469], Loss: 0.0159\n",
            "Epoch [7/10], Step [300/469], Loss: 0.0106\n",
            "Epoch [7/10], Step [400/469], Loss: 0.0793\n",
            "Epoch [8/10], Step [100/469], Loss: 0.0115\n",
            "Epoch [8/10], Step [200/469], Loss: 0.0721\n",
            "Epoch [8/10], Step [300/469], Loss: 0.0698\n",
            "Epoch [8/10], Step [400/469], Loss: 0.0145\n",
            "Epoch [9/10], Step [100/469], Loss: 0.0927\n",
            "Epoch [9/10], Step [200/469], Loss: 0.0218\n",
            "Epoch [9/10], Step [300/469], Loss: 0.0463\n",
            "Epoch [9/10], Step [400/469], Loss: 0.0024\n",
            "Epoch [10/10], Step [100/469], Loss: 0.0267\n",
            "Epoch [10/10], Step [200/469], Loss: 0.0006\n",
            "Epoch [10/10], Step [300/469], Loss: 0.2074\n",
            "Epoch [10/10], Step [400/469], Loss: 0.0195\n"
          ]
        }
      ]
    },
    {
      "cell_type": "code",
      "source": [
        "# Test the model\n",
        "# In test phase, we don't need to compute gradients (for memory efficiency)\n",
        "with torch.no_grad():\n",
        "    n_correct = 0\n",
        "    n_samples = 0\n",
        "    for images, labels in test_loader:\n",
        "        images = images.reshape(-1, 28*28).to(device)\n",
        "        labels = labels.to(device)\n",
        "        outputs = model(images)\n",
        "        # max returns (value ,index)\n",
        "        _, predicted = torch.max(outputs.data, 1)\n",
        "        n_samples += labels.size(0)\n",
        "        n_correct += (predicted == labels).sum().item()\n",
        "\n",
        "    acc = 100.0 * n_correct / n_samples\n",
        "    print(f'Accuracy of the network on the 10000 test images: {acc} %')"
      ],
      "metadata": {
        "id": "kZJELR69p50v",
        "outputId": "96710197-58a5-4cdb-c188-05d3fb1465f6",
        "colab": {
          "base_uri": "https://localhost:8080/"
        }
      },
      "id": "kZJELR69p50v",
      "execution_count": 26,
      "outputs": [
        {
          "output_type": "stream",
          "name": "stdout",
          "text": [
            "Accuracy of the network on the 10000 test images: 97.27 %\n"
          ]
        }
      ]
    },
    {
      "cell_type": "code",
      "source": [
        ""
      ],
      "metadata": {
        "id": "TpxJotDYqMym"
      },
      "id": "TpxJotDYqMym",
      "execution_count": null,
      "outputs": []
    }
  ],
  "metadata": {
    "kernelspec": {
      "display_name": "raphael.kalandadze",
      "language": "python",
      "name": "raphael.kalandadze"
    },
    "language_info": {
      "codemirror_mode": {
        "name": "ipython",
        "version": 3
      },
      "file_extension": ".py",
      "mimetype": "text/x-python",
      "name": "python",
      "nbconvert_exporter": "python",
      "pygments_lexer": "ipython3",
      "version": "3.9.1"
    },
    "colab": {
      "name": "Untitled.ipynb",
      "provenance": []
    },
    "accelerator": "GPU"
  },
  "nbformat": 4,
  "nbformat_minor": 5
}