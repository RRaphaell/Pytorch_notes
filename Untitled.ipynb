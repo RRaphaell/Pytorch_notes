{
  "cells": [
    {
      "cell_type": "code",
      "source": [
        "import numpy as np\n",
        "import torch\n",
        "import torch.nn as nn\n",
        "from sklearn import datasets\n",
        "from sklearn.preprocessing import StandardScaler\n",
        "from sklearn.model_selection import train_test_split\n",
        "import matplotlib.pyplot as plt"
      ],
      "metadata": {
        "id": "pa3oOp8gYv8D"
      },
      "id": "pa3oOp8gYv8D",
      "execution_count": 44,
      "outputs": []
    },
    {
      "cell_type": "markdown",
      "source": [
        "#**Basic operations**"
      ],
      "metadata": {
        "id": "38AO11J2oiIm"
      },
      "id": "38AO11J2oiIm"
    },
    {
      "cell_type": "code",
      "source": [
        "torch.cuda.is_available()"
      ],
      "metadata": {
        "id": "gmM5lKAzYwxJ",
        "outputId": "200e1ed7-9f89-4016-cb83-2a41f14b4286",
        "colab": {
          "base_uri": "https://localhost:8080/"
        }
      },
      "id": "gmM5lKAzYwxJ",
      "execution_count": 2,
      "outputs": [
        {
          "output_type": "execute_result",
          "data": {
            "text/plain": [
              "True"
            ]
          },
          "metadata": {},
          "execution_count": 2
        }
      ]
    },
    {
      "cell_type": "code",
      "source": [
        "x = torch.rand(1, 3, dtype=torch.float16)\n",
        "print(x)\n",
        "print(x.size())"
      ],
      "metadata": {
        "id": "WEVfmp1tY9y-",
        "outputId": "8fb06826-1990-4946-f64b-4cd933fbc918",
        "colab": {
          "base_uri": "https://localhost:8080/"
        }
      },
      "id": "WEVfmp1tY9y-",
      "execution_count": 4,
      "outputs": [
        {
          "output_type": "execute_result",
          "data": {
            "text/plain": [
              "tensor([[0.1260, 0.8862, 0.8999]], dtype=torch.float16)"
            ]
          },
          "metadata": {},
          "execution_count": 4
        }
      ]
    },
    {
      "cell_type": "code",
      "source": [
        "x = torch.tensor([1,2,3])\n",
        "x"
      ],
      "metadata": {
        "id": "lp9MhngKZYS6",
        "outputId": "58234fb1-e6ef-4db0-a7ad-c9271cefbee7",
        "colab": {
          "base_uri": "https://localhost:8080/"
        }
      },
      "id": "lp9MhngKZYS6",
      "execution_count": 6,
      "outputs": [
        {
          "output_type": "execute_result",
          "data": {
            "text/plain": [
              "tensor([1, 2, 3])"
            ]
          },
          "metadata": {},
          "execution_count": 6
        }
      ]
    },
    {
      "cell_type": "code",
      "source": [
        "# inplace\n",
        "x = torch.rand(1,3)\n",
        "x.mul_(0)\n",
        "x"
      ],
      "metadata": {
        "id": "EgRZoOrUZdsD",
        "outputId": "05f75d23-c650-4d1c-ae33-28a691e378e4",
        "colab": {
          "base_uri": "https://localhost:8080/"
        }
      },
      "id": "EgRZoOrUZdsD",
      "execution_count": 7,
      "outputs": [
        {
          "output_type": "execute_result",
          "data": {
            "text/plain": [
              "tensor([[0., 0., 0.]])"
            ]
          },
          "metadata": {},
          "execution_count": 7
        }
      ]
    },
    {
      "cell_type": "code",
      "source": [
        "x = torch.rand(2, 2)\n",
        "x.view(4)"
      ],
      "metadata": {
        "id": "DhmGgJmxZzLm",
        "outputId": "88c4dc1d-cdf6-49f6-bc45-8185eb89dead",
        "colab": {
          "base_uri": "https://localhost:8080/"
        }
      },
      "id": "DhmGgJmxZzLm",
      "execution_count": 8,
      "outputs": [
        {
          "output_type": "execute_result",
          "data": {
            "text/plain": [
              "tensor([0.3538, 0.9742, 0.0030, 0.6858])"
            ]
          },
          "metadata": {},
          "execution_count": 8
        }
      ]
    },
    {
      "cell_type": "code",
      "source": [
        "# takes reference if it's on gpu\n",
        "x.numpy()"
      ],
      "metadata": {
        "id": "MbJHW9acaYw0",
        "outputId": "b917ea7b-3b56-4072-a15c-ebfde1a63330",
        "colab": {
          "base_uri": "https://localhost:8080/"
        }
      },
      "id": "MbJHW9acaYw0",
      "execution_count": 9,
      "outputs": [
        {
          "output_type": "execute_result",
          "data": {
            "text/plain": [
              "array([[0.35384423, 0.97419006],\n",
              "       [0.00295287, 0.6857872 ]], dtype=float32)"
            ]
          },
          "metadata": {},
          "execution_count": 9
        }
      ]
    },
    {
      "cell_type": "code",
      "source": [
        "# takes reference if it's on gpu\n",
        "x = np.array([1,2,3])\n",
        "torch.from_numpy(x)"
      ],
      "metadata": {
        "id": "HPayYoFSbKnx",
        "outputId": "22d61325-93ac-4cc1-97f9-e259f07b8487",
        "colab": {
          "base_uri": "https://localhost:8080/"
        }
      },
      "id": "HPayYoFSbKnx",
      "execution_count": 10,
      "outputs": [
        {
          "output_type": "execute_result",
          "data": {
            "text/plain": [
              "tensor([1, 2, 3])"
            ]
          },
          "metadata": {},
          "execution_count": 10
        }
      ]
    },
    {
      "cell_type": "code",
      "source": [
        "if torch.cuda.is_available():\n",
        "  device = torch.device(\"cpu\")\n",
        "  x = torch.ones(5, device=device)\n",
        "  y = torch.ones(5)\n",
        "  y = y.to(device)\n",
        "  z = x+y\n",
        "  z = z.to(\"cpu\")\n",
        "  print(z)"
      ],
      "metadata": {
        "id": "Grs3MjEHbTnQ",
        "outputId": "f41d482f-62fe-4ed9-e21f-805855ceb65a",
        "colab": {
          "base_uri": "https://localhost:8080/"
        }
      },
      "id": "Grs3MjEHbTnQ",
      "execution_count": 11,
      "outputs": [
        {
          "output_type": "stream",
          "name": "stdout",
          "text": [
            "tensor([2., 2., 2., 2., 2.])\n"
          ]
        }
      ]
    },
    {
      "cell_type": "code",
      "source": [
        "# gradient for scalars\n",
        "x = torch.ones(3, requires_grad=True)\n",
        "y = x + 2\n",
        "z = y*y*2\n",
        "z = z.mean()\n",
        "print(y)\n",
        "print(z)\n",
        "z.backward()\n",
        "x.grad"
      ],
      "metadata": {
        "colab": {
          "base_uri": "https://localhost:8080/"
        },
        "id": "qPD-pVWnHJXr",
        "outputId": "1d70e30c-a44e-405c-a1ee-01cef9638c13"
      },
      "id": "qPD-pVWnHJXr",
      "execution_count": 24,
      "outputs": [
        {
          "output_type": "stream",
          "name": "stdout",
          "text": [
            "tensor([3., 3., 3.], grad_fn=<AddBackward0>)\n",
            "tensor(18., grad_fn=<MeanBackward0>)\n"
          ]
        },
        {
          "output_type": "execute_result",
          "data": {
            "text/plain": [
              "tensor([4., 4., 4.])"
            ]
          },
          "metadata": {},
          "execution_count": 24
        }
      ]
    },
    {
      "cell_type": "code",
      "source": [
        "# gradient for scalars\n",
        "x = torch.ones(3, requires_grad=True)\n",
        "y = x + 2\n",
        "z = y*y*2\n",
        "# z = z.mean()\n",
        "print(y)\n",
        "print(z)\n",
        "z.backward(gradient=torch.tensor([1,1,1]))\n",
        "x.grad"
      ],
      "metadata": {
        "colab": {
          "base_uri": "https://localhost:8080/"
        },
        "id": "6zIybqrKH2cj",
        "outputId": "3168b02a-6a4a-497f-c781-2c84311035b1"
      },
      "id": "6zIybqrKH2cj",
      "execution_count": 25,
      "outputs": [
        {
          "output_type": "stream",
          "name": "stdout",
          "text": [
            "tensor([3., 3., 3.], grad_fn=<AddBackward0>)\n",
            "tensor([18., 18., 18.], grad_fn=<MulBackward0>)\n"
          ]
        },
        {
          "output_type": "execute_result",
          "data": {
            "text/plain": [
              "tensor([12., 12., 12.])"
            ]
          },
          "metadata": {},
          "execution_count": 25
        }
      ]
    },
    {
      "cell_type": "code",
      "source": [
        "# desible requires grad. 3 way\n",
        "# .requires_grad_(False)\n",
        "# .detach()\n",
        "# with torch.no_grad():\n",
        "\n",
        "x1 = torch.randn(3, requires_grad=True)\n",
        "x2 = torch.randn(3, requires_grad=True)\n",
        "x3 = torch.randn(3, requires_grad=True)\n",
        "x1.requires_grad_(False)\n",
        "print(x1)\n",
        "x2.detach_()\n",
        "print(x2)\n",
        "with torch.no_grad():\n",
        "  y = x3 * 2\n",
        "  print(y)"
      ],
      "metadata": {
        "colab": {
          "base_uri": "https://localhost:8080/"
        },
        "id": "oV6yJF83NAKq",
        "outputId": "035396e2-5b84-445c-f384-73636c3ddda9"
      },
      "id": "oV6yJF83NAKq",
      "execution_count": 30,
      "outputs": [
        {
          "output_type": "stream",
          "name": "stdout",
          "text": [
            "tensor([1.6437, 1.5856, 0.6697])\n",
            "tensor([0.9452, 1.2962, 0.8772])\n",
            "tensor([ 2.8175, -1.6636, -0.8369])\n"
          ]
        }
      ]
    },
    {
      "cell_type": "code",
      "source": [
        "# warning pytorch accumulates gradients\n",
        "# model simulation\n",
        "weights = torch.ones(4, requires_grad=True)\n",
        "for epoch in range(3):\n",
        "  model_output = (weights*3).sum()\n",
        "  model_output.backward()\n",
        "  print(weights.grad)\n",
        "\n",
        "print(\"we need to clear the gradients\")\n",
        "weights = torch.ones(4, requires_grad=True)\n",
        "for epoch in range(3):\n",
        "  model_output = (weights*3).sum()\n",
        "  model_output.backward()\n",
        "  print(weights.grad)\n",
        "  weights.grad.zero_()\n"
      ],
      "metadata": {
        "colab": {
          "base_uri": "https://localhost:8080/"
        },
        "id": "wEJCC3QrOQs-",
        "outputId": "eef1684f-ce2e-4376-fda9-707df3954514"
      },
      "id": "wEJCC3QrOQs-",
      "execution_count": 37,
      "outputs": [
        {
          "output_type": "stream",
          "name": "stdout",
          "text": [
            "tensor([3., 3., 3., 3.])\n",
            "tensor([6., 6., 6., 6.])\n",
            "tensor([9., 9., 9., 9.])\n",
            "we need to clear the gradients\n",
            "tensor([3., 3., 3., 3.])\n",
            "tensor([3., 3., 3., 3.])\n",
            "tensor([3., 3., 3., 3.])\n"
          ]
        }
      ]
    },
    {
      "cell_type": "code",
      "source": [
        " # model simulation\n",
        "x = torch.tensor(1.0)\n",
        "y = torch.tensor(2.0)\n",
        "w = torch.tensor(1.0, requires_grad=True)\n",
        "y_hat = w*x\n",
        "loss = (y_hat-y)**2\n",
        "print(loss)\n",
        "loss.backward()\n",
        "w.grad\n"
      ],
      "metadata": {
        "colab": {
          "base_uri": "https://localhost:8080/"
        },
        "id": "1xZ8TrgrPJMS",
        "outputId": "511a9f44-0371-48e0-ba5f-667d23618e68"
      },
      "id": "1xZ8TrgrPJMS",
      "execution_count": 38,
      "outputs": [
        {
          "output_type": "stream",
          "name": "stdout",
          "text": [
            "tensor(1., grad_fn=<PowBackward0>)\n"
          ]
        },
        {
          "output_type": "execute_result",
          "data": {
            "text/plain": [
              "tensor(-2.)"
            ]
          },
          "metadata": {},
          "execution_count": 38
        }
      ]
    },
    {
      "cell_type": "markdown",
      "source": [
        "#**Linear Regression**"
      ],
      "metadata": {
        "id": "uDrdCka0oQaI"
      },
      "id": "uDrdCka0oQaI"
    },
    {
      "cell_type": "markdown",
      "source": [
        "#**Logistic Regression**"
      ],
      "metadata": {
        "id": "X9qVwVvRoIJy"
      },
      "id": "X9qVwVvRoIJy"
    },
    {
      "cell_type": "code",
      "source": [
        "# 0) Prepare data\n",
        "bc = datasets.load_breast_cancer()\n",
        "X, y = bc.data, bc.target\n",
        "\n",
        "n_samples, n_features = X.shape\n",
        "\n",
        "X_train, X_test, y_train, y_test = train_test_split(X, y, test_size=0.2, random_state=1234)\n",
        "\n",
        "# scale\n",
        "sc = StandardScaler()\n",
        "X_train = sc.fit_transform(X_train)\n",
        "X_test = sc.transform(X_test)\n",
        "\n",
        "X_train = torch.from_numpy(X_train.astype(np.float32))\n",
        "X_test = torch.from_numpy(X_test.astype(np.float32))\n",
        "y_train = torch.from_numpy(y_train.astype(np.float32))\n",
        "y_test = torch.from_numpy(y_test.astype(np.float32))\n",
        "\n",
        "y_train = y_train.view(-1, 1)\n",
        "y_test = y_test.view(-1, 1)\n",
        "\n",
        "# 1) Model\n",
        "# Linear model f = wx + b , sigmoid at the end\n",
        "class Model(nn.Module):\n",
        "    def __init__(self, n_input_features):\n",
        "        super(Model, self).__init__()\n",
        "        self.linear = nn.Linear(n_input_features, 1)\n",
        "\n",
        "    def forward(self, x):\n",
        "        y_pred = torch.sigmoid(self.linear(x))\n",
        "        return y_pred\n",
        "\n",
        "model = Model(n_features)\n",
        "\n",
        "# 2) Loss and optimizer\n",
        "num_epochs = 100\n",
        "learning_rate = 0.01\n",
        "criterion = nn.BCELoss()\n",
        "optimizer = torch.optim.SGD(model.parameters(), lr=learning_rate)\n",
        "\n",
        "# 3) Training loop\n",
        "for epoch in range(num_epochs):\n",
        "    # Forward pass and loss\n",
        "    y_pred = model(X_train)\n",
        "    loss = criterion(y_pred, y_train)\n",
        "\n",
        "    # Backward pass and update\n",
        "    loss.backward()\n",
        "    optimizer.step()\n",
        "\n",
        "    # zero grad before new step\n",
        "    optimizer.zero_grad()\n",
        "\n",
        "    if (epoch+1) % 10 == 0:\n",
        "        print(f'epoch: {epoch+1}, loss = {loss.item():.4f}')\n",
        "\n",
        "\n",
        "with torch.no_grad():\n",
        "    y_predicted = model(X_test)\n",
        "    y_predicted_cls = y_predicted.round()\n",
        "    acc = y_predicted_cls.eq(y_test).sum() / float(y_test.shape[0])\n",
        "    print(f'accuracy: {acc.item():.4f}')"
      ],
      "metadata": {
        "id": "LqSJbBsVnukw"
      },
      "id": "LqSJbBsVnukw",
      "execution_count": null,
      "outputs": []
    }
  ],
  "metadata": {
    "kernelspec": {
      "display_name": "raphael.kalandadze",
      "language": "python",
      "name": "raphael.kalandadze"
    },
    "language_info": {
      "codemirror_mode": {
        "name": "ipython",
        "version": 3
      },
      "file_extension": ".py",
      "mimetype": "text/x-python",
      "name": "python",
      "nbconvert_exporter": "python",
      "pygments_lexer": "ipython3",
      "version": "3.9.1"
    },
    "colab": {
      "name": "Untitled.ipynb",
      "provenance": []
    },
    "accelerator": "GPU"
  },
  "nbformat": 4,
  "nbformat_minor": 5
}